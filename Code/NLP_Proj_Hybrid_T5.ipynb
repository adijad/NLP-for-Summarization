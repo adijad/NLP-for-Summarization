{
 "cells": [
  {
   "cell_type": "code",
   "id": "initial_id",
   "metadata": {
    "collapsed": true,
    "ExecuteTime": {
     "end_time": "2024-12-02T03:02:15.255606Z",
     "start_time": "2024-12-02T03:02:15.252219Z"
    }
   },
   "source": [
    "from nltk.translate.bleu_score import corpus_bleu, SmoothingFunction\n",
    "import nltk\n",
    "import pandas as pd\n",
    "from transformers import T5Tokenizer, T5ForConditionalGeneration, Trainer, TrainingArguments\n",
    "from datasets import Dataset\n",
    "from sklearn.model_selection import train_test_split\n",
    "import torch\n",
    "import os\n",
    "os.environ[\"WANDB_DISABLED\"] = \"true\""
   ],
   "outputs": [],
   "execution_count": 16
  },
  {
   "metadata": {
    "ExecuteTime": {
     "end_time": "2024-12-02T03:02:33.827810Z",
     "start_time": "2024-12-02T03:02:33.729936Z"
    }
   },
   "cell_type": "code",
   "source": "df = pd.read_csv('Open-Patients-With-Summaries.csv')",
   "id": "bec574c77a471f0c",
   "outputs": [],
   "execution_count": 23
  },
  {
   "metadata": {
    "ExecuteTime": {
     "end_time": "2024-12-01T21:24:58.374985Z",
     "start_time": "2024-12-01T21:24:55.093771Z"
    }
   },
   "cell_type": "code",
   "source": [
    "t5_tokenizer = T5Tokenizer.from_pretrained('t5-small')\n",
    "t5_model = T5ForConditionalGeneration.from_pretrained('t5-small').to('cuda')"
   ],
   "id": "698fa6c11a2c7771",
   "outputs": [
    {
     "name": "stderr",
     "output_type": "stream",
     "text": [
      "You are using the default legacy behaviour of the <class 'transformers.models.t5.tokenization_t5.T5Tokenizer'>. This is expected, and simply means that the `legacy` (previous) behavior will be used so nothing changes for you. If you want to use the new behaviour, set `legacy=False`. This should only be set if you understand what it means, and thoroughly read the reason why this was added as explained in https://github.com/huggingface/transformers/pull/24565\n"
     ]
    }
   ],
   "execution_count": 3
  },
  {
   "metadata": {
    "ExecuteTime": {
     "end_time": "2024-12-01T21:25:06.168533Z",
     "start_time": "2024-12-01T21:25:06.163729Z"
    }
   },
   "cell_type": "code",
   "source": [
    "def preprocess_function(examples):\n",
    "    inputs = t5_tokenizer(\n",
    "        examples['original_text'],\n",
    "        padding='max_length',\n",
    "        truncation=True,\n",
    "        max_length=512\n",
    "    ).to('cuda')\n",
    "    labels = t5_tokenizer(\n",
    "        examples['summary'],\n",
    "        padding='max_length',\n",
    "        truncation=True,\n",
    "        max_length=150\n",
    "    ).to('cuda')\n",
    "    inputs['labels'] = labels['input_ids']\n",
    "    return inputs"
   ],
   "id": "f56b55093275ab82",
   "outputs": [],
   "execution_count": 4
  },
  {
   "metadata": {
    "ExecuteTime": {
     "end_time": "2024-12-01T21:25:12.485493Z",
     "start_time": "2024-12-01T21:25:12.463121Z"
    }
   },
   "cell_type": "code",
   "source": "train_df, test_df = train_test_split(df[['original_text', 'summary']], test_size=0.2, random_state=42)",
   "id": "cdecf6f35a4baf82",
   "outputs": [],
   "execution_count": 5
  },
  {
   "metadata": {
    "ExecuteTime": {
     "end_time": "2024-12-01T21:25:19.409618Z",
     "start_time": "2024-12-01T21:25:19.341283Z"
    }
   },
   "cell_type": "code",
   "source": "train_dataset = Dataset.from_pandas(train_df)",
   "id": "4425e52a94439b6c",
   "outputs": [],
   "execution_count": 6
  },
  {
   "metadata": {
    "ExecuteTime": {
     "end_time": "2024-12-01T21:25:32.922015Z",
     "start_time": "2024-12-01T21:25:28.058598Z"
    }
   },
   "cell_type": "code",
   "source": "train_dataset = train_dataset.map(preprocess_function, batched=True)",
   "id": "6ddf1d30b4057779",
   "outputs": [
    {
     "data": {
      "text/plain": [
       "Map:   0%|          | 0/2400 [00:00<?, ? examples/s]"
      ],
      "application/vnd.jupyter.widget-view+json": {
       "version_major": 2,
       "version_minor": 0,
       "model_id": "5c2362af1e99416db8eef9fefe7a609e"
      }
     },
     "metadata": {},
     "output_type": "display_data"
    }
   ],
   "execution_count": 7
  },
  {
   "metadata": {
    "ExecuteTime": {
     "end_time": "2024-12-01T21:25:35.285966Z",
     "start_time": "2024-12-01T21:25:35.161941Z"
    }
   },
   "cell_type": "code",
   "source": [
    "training_args = TrainingArguments(\n",
    "    output_dir='./results',\n",
    "    num_train_epochs=1,\n",
    "    per_device_train_batch_size=8,\n",
    "    warmup_steps=500,\n",
    "    weight_decay=0.01,\n",
    "    logging_dir='./logs',\n",
    "    evaluation_strategy='no',\n",
    "    save_strategy='epoch',\n",
    "    run_name=\"t5_training_run\",\n",
    "    report_to=None)"
   ],
   "id": "c8cf8eaea03fb3a3",
   "outputs": [
    {
     "name": "stderr",
     "output_type": "stream",
     "text": [
      "C:\\Users\\jaysa\\anaconda3\\Lib\\site-packages\\transformers\\training_args.py:1525: FutureWarning: `evaluation_strategy` is deprecated and will be removed in version 4.46 of 🤗 Transformers. Use `eval_strategy` instead\n",
      "  warnings.warn(\n",
      "Using the `WANDB_DISABLED` environment variable is deprecated and will be removed in v5. Use the --report_to flag to control the integrations used for logging result (for instance --report_to none).\n"
     ]
    }
   ],
   "execution_count": 8
  },
  {
   "metadata": {
    "ExecuteTime": {
     "end_time": "2024-12-01T21:25:44.824601Z",
     "start_time": "2024-12-01T21:25:44.777015Z"
    }
   },
   "cell_type": "code",
   "source": [
    "trainer = Trainer(\n",
    "    model=t5_model,\n",
    "    args=training_args,\n",
    "    train_dataset=train_dataset)"
   ],
   "id": "405a913a32f8de89",
   "outputs": [],
   "execution_count": 9
  },
  {
   "metadata": {
    "ExecuteTime": {
     "end_time": "2024-12-01T21:26:59.485580Z",
     "start_time": "2024-12-01T21:25:51.662889Z"
    }
   },
   "cell_type": "code",
   "source": "trainer.train()",
   "id": "29421dfbb57de866",
   "outputs": [
    {
     "data": {
      "text/plain": [
       "<IPython.core.display.HTML object>"
      ],
      "text/html": [
       "\n",
       "    <div>\n",
       "      \n",
       "      <progress value='300' max='300' style='width:300px; height:20px; vertical-align: middle;'></progress>\n",
       "      [300/300 01:05, Epoch 1/1]\n",
       "    </div>\n",
       "    <table border=\"1\" class=\"dataframe\">\n",
       "  <thead>\n",
       " <tr style=\"text-align: left;\">\n",
       "      <th>Step</th>\n",
       "      <th>Training Loss</th>\n",
       "    </tr>\n",
       "  </thead>\n",
       "  <tbody>\n",
       "  </tbody>\n",
       "</table><p>"
      ]
     },
     "metadata": {},
     "output_type": "display_data"
    },
    {
     "data": {
      "text/plain": [
       "TrainOutput(global_step=300, training_loss=2.074310099283854, metrics={'train_runtime': 66.6804, 'train_samples_per_second': 35.993, 'train_steps_per_second': 4.499, 'total_flos': 324820323532800.0, 'train_loss': 2.074310099283854, 'epoch': 1.0})"
      ]
     },
     "execution_count": 10,
     "metadata": {},
     "output_type": "execute_result"
    }
   ],
   "execution_count": 10
  },
  {
   "metadata": {
    "ExecuteTime": {
     "end_time": "2024-12-01T21:27:12.577136Z",
     "start_time": "2024-12-01T21:27:12.263015Z"
    }
   },
   "cell_type": "code",
   "source": [
    "save_path = 't5-finetuned'\n",
    "trainer.save_model(save_path)\n",
    "t5_tokenizer.save_pretrained(save_path)"
   ],
   "id": "4017698c7f25810b",
   "outputs": [
    {
     "data": {
      "text/plain": [
       "('t5-finetuned\\\\tokenizer_config.json',\n",
       " 't5-finetuned\\\\special_tokens_map.json',\n",
       " 't5-finetuned\\\\spiece.model',\n",
       " 't5-finetuned\\\\added_tokens.json')"
      ]
     },
     "execution_count": 11,
     "metadata": {},
     "output_type": "execute_result"
    }
   ],
   "execution_count": 11
  },
  {
   "metadata": {
    "ExecuteTime": {
     "end_time": "2024-12-01T21:27:19.346907Z",
     "start_time": "2024-12-01T21:27:19.126893Z"
    }
   },
   "cell_type": "code",
   "source": [
    "t5_tokenizer = T5Tokenizer.from_pretrained('t5-finetuned')\n",
    "t5_model = T5ForConditionalGeneration.from_pretrained('t5-finetuned')"
   ],
   "id": "31ba78f3632294bb",
   "outputs": [],
   "execution_count": 12
  },
  {
   "metadata": {
    "ExecuteTime": {
     "end_time": "2024-12-01T21:27:28.927477Z",
     "start_time": "2024-12-01T21:27:28.922521Z"
    }
   },
   "cell_type": "code",
   "source": [
    "def generate_summary(text):\n",
    "    inputs = t5_tokenizer(text, return_tensors=\"pt\", padding=True, truncation=True, max_length=512)\n",
    "    summary_ids = t5_model.generate(inputs['input_ids'], max_length=150, num_beams=5, length_penalty=2.0, early_stopping=True)\n",
    "    summary = t5_tokenizer.decode(summary_ids[0], skip_special_tokens=True)\n",
    "    return summary"
   ],
   "id": "a4417de954242e49",
   "outputs": [],
   "execution_count": 13
  },
  {
   "metadata": {
    "ExecuteTime": {
     "end_time": "2024-12-01T22:03:50.077506Z",
     "start_time": "2024-12-01T21:27:38.406773Z"
    }
   },
   "cell_type": "code",
   "source": [
    "generated_summaries = []\n",
    "for idx, row in test_df.iterrows():\n",
    "    description = row['original_text']\n",
    "    generated_summary = generate_summary(description)\n",
    "    generated_summaries.append(generated_summary)\n"
   ],
   "id": "793b5370f5e4d0e9",
   "outputs": [],
   "execution_count": 14
  },
  {
   "metadata": {
    "ExecuteTime": {
     "end_time": "2024-12-01T22:04:03.777140Z",
     "start_time": "2024-12-01T22:04:03.766414Z"
    }
   },
   "cell_type": "code",
   "source": "test_df['generated_summary_model'] = generated_summaries",
   "id": "e034c0e9a2bc1538",
   "outputs": [],
   "execution_count": 15
  },
  {
   "metadata": {
    "ExecuteTime": {
     "end_time": "2024-12-01T22:06:25.553039Z",
     "start_time": "2024-12-01T22:06:24.769573Z"
    }
   },
   "cell_type": "code",
   "source": [
    "def calculate_bleu_scores(references, generated):\n",
    "\n",
    "    reference_tokenized = [[nltk.word_tokenize(ref)] for ref in references]  \n",
    "    generated_tokenized = [nltk.word_tokenize(gen) for gen in generated]  \n",
    "    \n",
    " \n",
    "    smoothing = SmoothingFunction().method4\n",
    "    bleu_score = corpus_bleu(reference_tokenized, generated_tokenized, smoothing_function=smoothing)\n",
    "    return bleu_score\n",
    "\n",
    "\n",
    "bleu_score = calculate_bleu_scores(\n",
    "    test_df['summary'].tolist(),\n",
    "    test_df['generated_summary_model'].tolist()\n",
    ")\n",
    "\n",
    "print(f\"Average BLEU Score: {bleu_score:.4f}\")\n",
    "\n"
   ],
   "id": "d06da8fda09ae146",
   "outputs": [
    {
     "name": "stdout",
     "output_type": "stream",
     "text": [
      "Average BLEU Score: 0.1705\n"
     ]
    }
   ],
   "execution_count": 20
  },
  {
   "metadata": {
    "ExecuteTime": {
     "end_time": "2024-12-01T22:06:28.407037Z",
     "start_time": "2024-12-01T22:06:27.633918Z"
    }
   },
   "cell_type": "code",
   "source": [
    "bleu_score = calculate_bleu_scores(test_df['summary'].tolist(), test_df['generated_summary_model'].tolist())\n",
    "print(f\"Average BLEU Score: {bleu_score:.4f}\")\n",
    "\n"
   ],
   "id": "36ba0a0a8e959b56",
   "outputs": [
    {
     "name": "stdout",
     "output_type": "stream",
     "text": [
      "Average BLEU Score: 0.1705\n"
     ]
    }
   ],
   "execution_count": 21
  },
  {
   "metadata": {
    "ExecuteTime": {
     "end_time": "2024-12-02T02:34:34.577368Z",
     "start_time": "2024-12-02T02:34:34.570251Z"
    }
   },
   "cell_type": "code",
   "source": "avg_rouge1, avg_rouge2, avg_rougeL = df[['rouge1','rouge2','rougeL']].mean()",
   "id": "768d177394f06cf8",
   "outputs": [],
   "execution_count": 6
  },
  {
   "metadata": {
    "ExecuteTime": {
     "end_time": "2024-12-02T02:34:43.693874Z",
     "start_time": "2024-12-02T02:34:43.689672Z"
    }
   },
   "cell_type": "code",
   "source": [
    "print(f\"Average Test Rouge1 Score: {avg_rouge1:.4f}\")\n",
    "print(f\"Average Test Rouge2 Score: {avg_rouge2:.4f}\")\n",
    "print(f\"Average Test RougeL Score: {avg_rougeL:.4f}\")"
   ],
   "id": "5bb5213890c67f45",
   "outputs": [
    {
     "name": "stdout",
     "output_type": "stream",
     "text": [
      "Average Test Rouge1 Score: 0.3840\n",
      "Average Test Rouge2 Score: 0.2732\n",
      "Average Test RougeL Score: 0.3150\n"
     ]
    }
   ],
   "execution_count": 7
  },
  {
   "metadata": {
    "ExecuteTime": {
     "end_time": "2024-12-01T22:07:52.150337Z",
     "start_time": "2024-12-01T22:07:52.088927Z"
    }
   },
   "cell_type": "code",
   "source": [
    "output_path = 'test_samples_results-T5.csv'\n",
    "columns_to_save = ['original_text', 'generated_summary_model', 'summary']\n",
    "test_df[columns_to_save].to_csv(output_path, index=False)\n",
    "print(f\"Results saved to {output_path}\")"
   ],
   "id": "ec6e3f6f0919f8ed",
   "outputs": [
    {
     "name": "stdout",
     "output_type": "stream",
     "text": [
      "Results saved to test_samples_results-T5.csv\n"
     ]
    }
   ],
   "execution_count": 22
  }
 ],
 "metadata": {
  "kernelspec": {
   "display_name": "Python 3",
   "language": "python",
   "name": "python3"
  },
  "language_info": {
   "codemirror_mode": {
    "name": "ipython",
    "version": 2
   },
   "file_extension": ".py",
   "mimetype": "text/x-python",
   "name": "python",
   "nbconvert_exporter": "python",
   "pygments_lexer": "ipython2",
   "version": "2.7.6"
  }
 },
 "nbformat": 4,
 "nbformat_minor": 5
}
