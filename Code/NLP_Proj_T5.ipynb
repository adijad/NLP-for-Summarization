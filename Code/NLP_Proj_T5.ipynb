{
 "cells": [
  {
   "cell_type": "code",
   "id": "initial_id",
   "metadata": {
    "collapsed": true,
    "ExecuteTime": {
     "end_time": "2024-12-02T02:54:40.187425Z",
     "start_time": "2024-12-02T02:54:35.929616Z"
    }
   },
   "source": [
    "import pandas as pd\n",
    "from transformers import T5ForConditionalGeneration, T5Tokenizer\n",
    "from nltk.translate.bleu_score import sentence_bleu, SmoothingFunction\n",
    "import time\n",
    "import nltk\n",
    "import torch"
   ],
   "outputs": [],
   "execution_count": 1
  },
  {
   "metadata": {
    "ExecuteTime": {
     "end_time": "2024-12-01T20:50:18.141877Z",
     "start_time": "2024-12-01T20:50:18.134685Z"
    }
   },
   "cell_type": "code",
   "source": "torch.cuda.empty_cache()",
   "id": "9498d715ea7e3e81",
   "outputs": [],
   "execution_count": 2
  },
  {
   "metadata": {
    "ExecuteTime": {
     "end_time": "2024-12-01T20:50:51.950877Z",
     "start_time": "2024-12-01T20:50:50.877893Z"
    }
   },
   "cell_type": "code",
   "source": [
    "model_name = \"t5-small\" \n",
    "model = T5ForConditionalGeneration.from_pretrained(model_name).to('cuda')\n",
    "tokenizer = T5Tokenizer.from_pretrained(model_name)"
   ],
   "id": "7bb1fc2263fcc09",
   "outputs": [],
   "execution_count": 4
  },
  {
   "metadata": {
    "ExecuteTime": {
     "end_time": "2024-12-01T20:52:15.829180Z",
     "start_time": "2024-12-01T20:51:25.243725Z"
    }
   },
   "cell_type": "code",
   "source": [
    "og_med_data = pd.read_json(\"hf://datasets/ncbi/Open-Patients/Open-Patients.jsonl\", lines=True)\n",
    "og_med_data.head()"
   ],
   "id": "8a12e679edbc7de8",
   "outputs": [
    {
     "data": {
      "text/plain": [
       "               _id                                        description\n",
       "0  trec-cds-2014-1  A 58-year-old African-American woman presents ...\n",
       "1  trec-cds-2014-2  An 8-year-old male presents in March to the ER...\n",
       "2  trec-cds-2014-3  A 58-year-old nonsmoker white female with mild...\n",
       "3  trec-cds-2014-4  A 2-year-old boy is brought to the emergency d...\n",
       "4  trec-cds-2014-5  A 56-year-old female on 20th day post-left mas..."
      ],
      "text/html": [
       "<div>\n",
       "<style scoped>\n",
       "    .dataframe tbody tr th:only-of-type {\n",
       "        vertical-align: middle;\n",
       "    }\n",
       "\n",
       "    .dataframe tbody tr th {\n",
       "        vertical-align: top;\n",
       "    }\n",
       "\n",
       "    .dataframe thead th {\n",
       "        text-align: right;\n",
       "    }\n",
       "</style>\n",
       "<table border=\"1\" class=\"dataframe\">\n",
       "  <thead>\n",
       "    <tr style=\"text-align: right;\">\n",
       "      <th></th>\n",
       "      <th>_id</th>\n",
       "      <th>description</th>\n",
       "    </tr>\n",
       "  </thead>\n",
       "  <tbody>\n",
       "    <tr>\n",
       "      <th>0</th>\n",
       "      <td>trec-cds-2014-1</td>\n",
       "      <td>A 58-year-old African-American woman presents ...</td>\n",
       "    </tr>\n",
       "    <tr>\n",
       "      <th>1</th>\n",
       "      <td>trec-cds-2014-2</td>\n",
       "      <td>An 8-year-old male presents in March to the ER...</td>\n",
       "    </tr>\n",
       "    <tr>\n",
       "      <th>2</th>\n",
       "      <td>trec-cds-2014-3</td>\n",
       "      <td>A 58-year-old nonsmoker white female with mild...</td>\n",
       "    </tr>\n",
       "    <tr>\n",
       "      <th>3</th>\n",
       "      <td>trec-cds-2014-4</td>\n",
       "      <td>A 2-year-old boy is brought to the emergency d...</td>\n",
       "    </tr>\n",
       "    <tr>\n",
       "      <th>4</th>\n",
       "      <td>trec-cds-2014-5</td>\n",
       "      <td>A 56-year-old female on 20th day post-left mas...</td>\n",
       "    </tr>\n",
       "  </tbody>\n",
       "</table>\n",
       "</div>"
      ]
     },
     "execution_count": 5,
     "metadata": {},
     "output_type": "execute_result"
    }
   ],
   "execution_count": 5
  },
  {
   "metadata": {
    "ExecuteTime": {
     "end_time": "2024-12-01T20:53:16.098757Z",
     "start_time": "2024-12-01T20:53:16.086739Z"
    }
   },
   "cell_type": "code",
   "source": "og_med_data_subset = og_med_data.iloc[0:30000,:]",
   "id": "48cd07f24f362e77",
   "outputs": [],
   "execution_count": 7
  },
  {
   "metadata": {
    "ExecuteTime": {
     "end_time": "2024-12-01T20:53:17.708305Z",
     "start_time": "2024-12-01T20:53:17.690035Z"
    }
   },
   "cell_type": "code",
   "source": [
    "def generate_t5_summary_batch(texts, batch_size=4, max_input_length=512, max_output_length=150):\n",
    "    summaries = []\n",
    "    for i in range(0, len(texts), batch_size):\n",
    "        batch = texts[i:i+batch_size]\n",
    "        inputs = tokenizer(batch, truncation=True, padding=True, max_length=max_input_length, return_tensors=\"pt\").to(\"cuda\")\n",
    "        outputs = model.generate(inputs[\"input_ids\"], max_length=max_output_length, num_beams=4, early_stopping=True)\n",
    "        decoded_batch = tokenizer.batch_decode(outputs, skip_special_tokens=True)\n",
    "        summaries.extend(decoded_batch)\n",
    "    return summaries"
   ],
   "id": "6ad8285e6602f7b3",
   "outputs": [],
   "execution_count": 8
  },
  {
   "metadata": {
    "ExecuteTime": {
     "end_time": "2024-12-01T20:53:18.975248Z",
     "start_time": "2024-12-01T20:53:18.970728Z"
    }
   },
   "cell_type": "code",
   "source": [
    "def tokenize_texts(texts):\n",
    "    return [\" \".join(nltk.word_tokenize(text.lower())) for text in texts]"
   ],
   "id": "9ce6c21ff49221c3",
   "outputs": [],
   "execution_count": 9
  },
  {
   "metadata": {
    "ExecuteTime": {
     "end_time": "2024-12-01T20:53:31.730341Z",
     "start_time": "2024-12-01T20:53:31.718813Z"
    }
   },
   "cell_type": "code",
   "source": "descriptions = og_med_data_subset[\"description\"].tolist()",
   "id": "dfd50aee048e092e",
   "outputs": [],
   "execution_count": 10
  },
  {
   "metadata": {
    "ExecuteTime": {
     "end_time": "2024-12-01T20:53:32.662496Z",
     "start_time": "2024-12-01T20:53:32.654682Z"
    }
   },
   "cell_type": "code",
   "source": [
    "def calculate_sentence_bleu(reference, generated):\n",
    "    smoothing_function = SmoothingFunction().method1\n",
    "    scores = [\n",
    "        sentence_bleu([nltk.word_tokenize(ref)], nltk.word_tokenize(gen), smoothing_function=smoothing_function)\n",
    "        for ref, gen in zip(reference, generated)\n",
    "    ]\n",
    "    return sum(scores) / len(scores)"
   ],
   "id": "1715dbe7afdf9738",
   "outputs": [],
   "execution_count": 11
  },
  {
   "metadata": {
    "ExecuteTime": {
     "end_time": "2024-12-01T21:00:46.800481Z",
     "start_time": "2024-12-01T20:53:34.642134Z"
    }
   },
   "cell_type": "code",
   "source": [
    "start_time = time.time()\n",
    "t5_summaries = generate_t5_summary_batch(descriptions, batch_size=2)\n",
    "t5_time = time.time() - start_time"
   ],
   "id": "dbed4c491d06f519",
   "outputs": [],
   "execution_count": 12
  },
  {
   "metadata": {
    "ExecuteTime": {
     "end_time": "2024-12-01T21:00:48.471257Z",
     "start_time": "2024-12-01T21:00:46.810561Z"
    }
   },
   "cell_type": "code",
   "source": [
    "reference_tokenized = tokenize_texts(descriptions)\n",
    "generated_tokenized = tokenize_texts(t5_summaries)"
   ],
   "id": "ccf7b379f74b4454",
   "outputs": [],
   "execution_count": 13
  },
  {
   "metadata": {
    "ExecuteTime": {
     "end_time": "2024-12-01T21:00:50.549883Z",
     "start_time": "2024-12-01T21:00:48.483485Z"
    }
   },
   "cell_type": "code",
   "source": "sentence_bleu_score = calculate_sentence_bleu(reference_tokenized, generated_tokenized)",
   "id": "419ad5d8d669685a",
   "outputs": [],
   "execution_count": 14
  },
  {
   "metadata": {
    "ExecuteTime": {
     "end_time": "2024-12-01T21:00:50.562193Z",
     "start_time": "2024-12-01T21:00:50.558584Z"
    }
   },
   "cell_type": "code",
   "source": [
    "print(f\"t5 Summary Generation Metrics:\")\n",
    "print(f\"  Time taken: {t5_time:.2f} seconds\")\n",
    "print(f\"  Sentence-Level BLEU Score: {sentence_bleu_score:.4f}\")"
   ],
   "id": "106901f02edfd415",
   "outputs": [
    {
     "name": "stdout",
     "output_type": "stream",
     "text": [
      "t5 Summary Generation Metrics:\n",
      "  Time taken: 432.14 seconds\n",
      "  Sentence-Level BLEU Score: 0.0493\n"
     ]
    }
   ],
   "execution_count": 15
  },
  {
   "metadata": {
    "ExecuteTime": {
     "end_time": "2024-12-02T02:56:20.799034Z",
     "start_time": "2024-12-02T02:56:20.787444Z"
    }
   },
   "cell_type": "code",
   "source": "avg_rouge1, avg_rouge2, avg_rougeL = og_med_data_subset[['rouge1', 'rouge2', 'rougeL']].mean()",
   "id": "7c0895d35bf778a7",
   "outputs": [],
   "execution_count": 19
  },
  {
   "metadata": {
    "ExecuteTime": {
     "end_time": "2024-12-02T02:56:35.556348Z",
     "start_time": "2024-12-02T02:56:35.544513Z"
    }
   },
   "cell_type": "code",
   "source": [
    "print(f\"Average Test Rouge1 Score: {avg_rouge1:.4f}\")\n",
    "print(f\"Average Test Rouge2 Score: {avg_rouge2:.4f}\")\n",
    "print(f\"Average Test RougeL Score: {avg_rougeL:.4f}\")"
   ],
   "id": "acc8110d76f2f15b",
   "outputs": [
    {
     "name": "stdout",
     "output_type": "stream",
     "text": [
      "Average Test Rouge1 Score: 0.1468\n",
      "Average Test Rouge2 Score: 0.0465\n",
      "Average Test RougeL Score: 0.1131\n"
     ]
    }
   ],
   "execution_count": 20
  },
  {
   "metadata": {
    "ExecuteTime": {
     "end_time": "2024-12-01T21:00:50.645387Z",
     "start_time": "2024-12-01T21:00:50.640508Z"
    }
   },
   "cell_type": "code",
   "outputs": [
    {
     "name": "stdout",
     "output_type": "stream",
     "text": [
      "\n",
      "---\n",
      "Reference: a 58-year-old african-american woman presents to the er with episodic pressing/burning anterior chest pain that began two days earlier for the first time in her life . the pain started while she was walking , radiates to the back , and is accompanied by nausea , diaphoresis and mild dyspnea , but is not increased on inspiration . the latest episode of pain ended half an hour prior to her arrival . she is known to have hypertension and obesity . she denies smoking , diabetes , hypercholesterolemia , or a family history of heart disease . she currently takes no medications . physical examination is normal . the ekg shows nonspecific changes .\n",
      "Generated: african-american woman , 58 , presents to the er with chest pain that began two days earlier . the pain began while she was walking , radiates to the back , and is accompanied by nausea , diaphoresis and mild dyspnea .\n",
      "\n",
      "---\n",
      "Reference: an 8-year-old male presents in march to the er with fever up to 39 c , dyspnea and cough for 2 days . he has just returned from a 5 day vacation in colorado . parents report that prior to the onset of fever and cough , he had loose stools . he denies upper respiratory tract symptoms . on examination he is in respiratory distress and has bronchial respiratory sounds on the left . a chest x-ray shows bilateral lung infiltrates .\n",
      "Generated: and cough , he had loose stools . he denies upper respiratory tract symptoms . he denies upper respiratory tract symptoms .\n",
      "\n",
      "---\n",
      "Reference: a 58-year-old nonsmoker white female with mild exertional dyspnea and occasional cough is found to have a left lung mass on chest x-ray . she is otherwise asymptomatic . a neurologic examination is unremarkable , but a ct scan of the head shows a solitary mass in the right frontal lobe .\n",
      "Generated: female with mild exertional dyspnea and occasional cough is found to have a left lung mass on chest x-ray . a 58-year-old nonsmoker white female with mild exertional dyspnea and occasional cough is found to have a left lung mass on chest x-ray .\n",
      "\n",
      "---\n",
      "Reference: a 2-year-old boy is brought to the emergency department by his parents for 5 days of high fever and irritability . the physical exam reveals conjunctivitis , strawberry tongue , inflammation of the hands and feet , desquamation of the skin of the fingers and toes , and cervical lymphadenopathy with the smallest node at 1.5 cm . the abdominal exam demonstrates tenderness and enlarged liver . laboratory tests report elevated alanine aminotransferase , white blood cell count of 17,580/mm , albumin 2.1 g/dl , c-reactive protein 4.5 mg , erythrocyte sedimentation rate 60 mm/h , mild normochromic , normocytic anemia , and leukocytes in urine of 20/ml with no bacteria identified . the echocardiogram shows moderate dilation of the coronary arteries with possible coronary artery aneurysm .\n",
      "Generated: reveals conjunctivitis , strawberry tongue , inflammation of the hands and feet , desquamation of the skin of the fingers and toes , and cervical lymphadenopathy . echocardiogram shows moderate dilation of the coronary arteries with possible coronary artery aneurysm .\n",
      "\n",
      "---\n",
      "Reference: a 56-year-old female on 20th day post-left mastectomy presents to the emergency department complaining of shortness of breath and malaise . the patient says that she has remained in bed for the last two weeks . the physical examination reveals tenderness on the left upper thoracic wall and right calf . the surgical incision shows no bleeding or signs of infection . pulmonary auscultation is significant for bilateral decreased breath sounds , especially at the right base . laboratory tests reveal an elevated d-dimer .\n",
      "Generated: a 56-year-old female on 20th day post-left mastectomy presents to the emergency department . the physical examination reveals tenderness on the left upper thoracic wall and right calf .\n"
     ]
    }
   ],
   "execution_count": 16,
   "source": [
    "for ref, gen in zip(reference_tokenized[:5], generated_tokenized[:5]):\n",
    "    print(\"\\n---\")\n",
    "    print(f\"Reference: {ref}\")\n",
    "    print(f\"Generated: {gen}\")"
   ],
   "id": "6f7710575f2e0585"
  }
 ],
 "metadata": {
  "kernelspec": {
   "display_name": "Python 3",
   "language": "python",
   "name": "python3"
  },
  "language_info": {
   "codemirror_mode": {
    "name": "ipython",
    "version": 2
   },
   "file_extension": ".py",
   "mimetype": "text/x-python",
   "name": "python",
   "nbconvert_exporter": "python",
   "pygments_lexer": "ipython2",
   "version": "2.7.6"
  }
 },
 "nbformat": 4,
 "nbformat_minor": 5
}
