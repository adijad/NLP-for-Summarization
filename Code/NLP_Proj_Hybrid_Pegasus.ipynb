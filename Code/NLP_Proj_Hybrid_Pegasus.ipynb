{
 "cells": [
  {
   "cell_type": "code",
   "id": "initial_id",
   "metadata": {
    "collapsed": true,
    "ExecuteTime": {
     "end_time": "2024-12-01T22:59:20.710494Z",
     "start_time": "2024-12-01T22:59:09.990260Z"
    }
   },
   "source": [
    "import torch\n",
    "from transformers import PegasusTokenizer, PegasusForConditionalGeneration, Trainer, TrainingArguments, DataCollatorForSeq2Seq\n",
    "from datasets import Dataset\n",
    "from nltk.translate.bleu_score import sentence_bleu\n",
    "import pandas as pd\n",
    "from sklearn.model_selection import train_test_split\n",
    "import nltk\n",
    "import os\n",
    "os.environ[\"WANDB_DISABLED\"] = \"true\"\n"
   ],
   "outputs": [],
   "execution_count": 1
  },
  {
   "metadata": {
    "ExecuteTime": {
     "end_time": "2024-12-01T22:59:20.879033Z",
     "start_time": "2024-12-01T22:59:20.710997Z"
    }
   },
   "cell_type": "code",
   "source": "df = pd.read_csv('Open-Patients-With-Summaries.csv')",
   "id": "a4d6fbdeb5659c42",
   "outputs": [],
   "execution_count": 2
  },
  {
   "metadata": {
    "ExecuteTime": {
     "end_time": "2024-12-01T22:59:22.770688Z",
     "start_time": "2024-12-01T22:59:20.963248Z"
    }
   },
   "cell_type": "code",
   "source": "device = \"cuda\" if torch.cuda.is_available() else \"cpu\"",
   "id": "2837ffbdcdf8a681",
   "outputs": [],
   "execution_count": 3
  },
  {
   "metadata": {
    "ExecuteTime": {
     "end_time": "2024-12-01T22:59:22.781538Z",
     "start_time": "2024-12-01T22:59:22.778619Z"
    }
   },
   "cell_type": "code",
   "source": "torch.cuda.empty_cache()",
   "id": "c8fc333f55455e07",
   "outputs": [],
   "execution_count": 4
  },
  {
   "metadata": {
    "ExecuteTime": {
     "end_time": "2024-12-01T22:59:31.687266Z",
     "start_time": "2024-12-01T22:59:22.790466Z"
    }
   },
   "cell_type": "code",
   "source": [
    "model_name = 'google/pegasus-large'\n",
    "tokenizer = PegasusTokenizer.from_pretrained(model_name)\n",
    "model = PegasusForConditionalGeneration.from_pretrained(model_name).to('cuda')"
   ],
   "id": "c51ed9de78ea66e9",
   "outputs": [
    {
     "name": "stderr",
     "output_type": "stream",
     "text": [
      "C:\\Users\\jaysa\\anaconda3\\Lib\\site-packages\\transformers\\tokenization_utils_base.py:1601: FutureWarning: `clean_up_tokenization_spaces` was not set. It will be set to `True` by default. This behavior will be depracted in transformers v4.45, and will be then set to `False` by default. For more details check this issue: https://github.com/huggingface/transformers/issues/31884\n",
      "  warnings.warn(\n",
      "Some weights of PegasusForConditionalGeneration were not initialized from the model checkpoint at google/pegasus-large and are newly initialized: ['model.decoder.embed_positions.weight', 'model.encoder.embed_positions.weight']\n",
      "You should probably TRAIN this model on a down-stream task to be able to use it for predictions and inference.\n"
     ]
    }
   ],
   "execution_count": 5
  },
  {
   "metadata": {
    "ExecuteTime": {
     "end_time": "2024-12-01T22:59:31.705515Z",
     "start_time": "2024-12-01T22:59:31.699715Z"
    }
   },
   "cell_type": "code",
   "source": [
    "def preprocess_function(examples):\n",
    "    inputs = tokenizer(\n",
    "        examples['original_text'], padding=\"max_length\", truncation=True, max_length=256, return_tensors=\"pt\"\n",
    "    )\n",
    "    labels = tokenizer(\n",
    "        examples['summary'], padding=\"max_length\", truncation=True, max_length=128, return_tensors=\"pt\"\n",
    "    )\n",
    "\n",
    "    labels[\"input_ids\"] = torch.tensor([\n",
    "        [(label if label != tokenizer.pad_token_id else -100) for label in seq]\n",
    "        for seq in labels[\"input_ids\"]\n",
    "    ])\n",
    "\n",
    "    inputs = {key: value.to('cuda') for key, value in inputs.items()}\n",
    "    inputs[\"labels\"] = labels[\"input_ids\"].to('cuda')  # Move labels to GPU\n",
    "    return inputs"
   ],
   "id": "2f39a7e26fb06d72",
   "outputs": [],
   "execution_count": 6
  },
  {
   "metadata": {
    "ExecuteTime": {
     "end_time": "2024-12-01T22:59:31.726189Z",
     "start_time": "2024-12-01T22:59:31.717418Z"
    }
   },
   "cell_type": "code",
   "source": "train_df, test_df = train_test_split(df, test_size=0.2, random_state=42)",
   "id": "c648088bfbe90082",
   "outputs": [],
   "execution_count": 7
  },
  {
   "metadata": {
    "ExecuteTime": {
     "end_time": "2024-12-01T22:59:31.790898Z",
     "start_time": "2024-12-01T22:59:31.744282Z"
    }
   },
   "cell_type": "code",
   "source": [
    "train_dataset = Dataset.from_pandas(train_df)\n",
    "eval_dataset = Dataset.from_pandas(test_df)"
   ],
   "id": "38e3f41915b65209",
   "outputs": [],
   "execution_count": 8
  },
  {
   "metadata": {
    "ExecuteTime": {
     "end_time": "2024-12-01T22:59:39.422461Z",
     "start_time": "2024-12-01T22:59:31.808481Z"
    }
   },
   "cell_type": "code",
   "source": [
    "train_dataset = train_dataset.map(preprocess_function, batched=True)\n",
    "eval_dataset = eval_dataset.map(preprocess_function, batched=True)"
   ],
   "id": "2351d97330d98d20",
   "outputs": [
    {
     "data": {
      "text/plain": [
       "Map:   0%|          | 0/2400 [00:00<?, ? examples/s]"
      ],
      "application/vnd.jupyter.widget-view+json": {
       "version_major": 2,
       "version_minor": 0,
       "model_id": "e150bdb460d849ef9f87727119fb2ef5"
      }
     },
     "metadata": {},
     "output_type": "display_data"
    },
    {
     "data": {
      "text/plain": [
       "Map:   0%|          | 0/600 [00:00<?, ? examples/s]"
      ],
      "application/vnd.jupyter.widget-view+json": {
       "version_major": 2,
       "version_minor": 0,
       "model_id": "095833710ab0469f89213d45bfc19d40"
      }
     },
     "metadata": {},
     "output_type": "display_data"
    }
   ],
   "execution_count": 9
  },
  {
   "metadata": {
    "ExecuteTime": {
     "end_time": "2024-12-01T22:59:39.441380Z",
     "start_time": "2024-12-01T22:59:39.438548Z"
    }
   },
   "cell_type": "code",
   "source": "data_collator = DataCollatorForSeq2Seq(tokenizer=tokenizer, model=model, padding=True)",
   "id": "6d1cf9f540cee79c",
   "outputs": [],
   "execution_count": 10
  },
  {
   "metadata": {
    "ExecuteTime": {
     "end_time": "2024-12-01T23:46:57.613176Z",
     "start_time": "2024-12-01T22:59:39.462495Z"
    }
   },
   "cell_type": "code",
   "source": [
    "\n",
    "training_args = TrainingArguments(\n",
    "    output_dir='./results',\n",
    "    num_train_epochs=1,\n",
    "    per_device_train_batch_size=1,\n",
    "    gradient_accumulation_steps=4,\n",
    "    warmup_steps=500,\n",
    "    weight_decay=0.01,\n",
    "    save_total_limit=2,\n",
    "    save_strategy=\"epoch\",\n",
    "    evaluation_strategy=\"epoch\",\n",
    "    logging_dir='./logs',\n",
    "    fp16=True,\n",
    "    report_to=None)\n",
    "\n",
    "\n",
    "trainer = Trainer(\n",
    "    model=model,\n",
    "    args=training_args,\n",
    "    train_dataset=train_dataset,\n",
    "    eval_dataset=eval_dataset,\n",
    "    data_collator=data_collator)\n",
    "\n",
    "trainer.train()"
   ],
   "id": "f24ad050a895d215",
   "outputs": [
    {
     "name": "stderr",
     "output_type": "stream",
     "text": [
      "C:\\Users\\jaysa\\anaconda3\\Lib\\site-packages\\transformers\\training_args.py:1525: FutureWarning: `evaluation_strategy` is deprecated and will be removed in version 4.46 of 🤗 Transformers. Use `eval_strategy` instead\n",
      "  warnings.warn(\n",
      "Using the `WANDB_DISABLED` environment variable is deprecated and will be removed in v5. Use the --report_to flag to control the integrations used for logging result (for instance --report_to none).\n",
      "C:\\Users\\jaysa\\anaconda3\\Lib\\site-packages\\accelerate\\accelerator.py:488: FutureWarning: `torch.cuda.amp.GradScaler(args...)` is deprecated. Please use `torch.amp.GradScaler('cuda', args...)` instead.\n",
      "  self.scaler = torch.cuda.amp.GradScaler(**kwargs)\n"
     ]
    },
    {
     "data": {
      "text/plain": [
       "<IPython.core.display.HTML object>"
      ],
      "text/html": [
       "\n",
       "    <div>\n",
       "      \n",
       "      <progress value='600' max='600' style='width:300px; height:20px; vertical-align: middle;'></progress>\n",
       "      [600/600 47:15, Epoch 1/1]\n",
       "    </div>\n",
       "    <table border=\"1\" class=\"dataframe\">\n",
       "  <thead>\n",
       " <tr style=\"text-align: left;\">\n",
       "      <th>Epoch</th>\n",
       "      <th>Training Loss</th>\n",
       "      <th>Validation Loss</th>\n",
       "    </tr>\n",
       "  </thead>\n",
       "  <tbody>\n",
       "    <tr>\n",
       "      <td>1</td>\n",
       "      <td>1.179300</td>\n",
       "      <td>0.881459</td>\n",
       "    </tr>\n",
       "  </tbody>\n",
       "</table><p>"
      ]
     },
     "metadata": {},
     "output_type": "display_data"
    },
    {
     "name": "stderr",
     "output_type": "stream",
     "text": [
      "Some non-default generation parameters are set in the model config. These should go into a GenerationConfig file (https://huggingface.co/docs/transformers/generation_strategies#save-a-custom-decoding-strategy-with-your-model) instead. This warning will be raised to an exception in v4.41.\n",
      "Non-default generation parameters: {'max_length': 256, 'num_beams': 8, 'length_penalty': 0.8, 'forced_eos_token_id': 1}\n",
      "Some non-default generation parameters are set in the model config. These should go into a GenerationConfig file (https://huggingface.co/docs/transformers/generation_strategies#save-a-custom-decoding-strategy-with-your-model) instead. This warning will be raised to an exception in v4.41.\n",
      "Non-default generation parameters: {'max_length': 256, 'num_beams': 8, 'length_penalty': 0.8, 'forced_eos_token_id': 1}\n"
     ]
    },
    {
     "data": {
      "text/plain": [
       "TrainOutput(global_step=600, training_loss=1.1536206309000652, metrics={'train_runtime': 2836.7908, 'train_samples_per_second': 0.846, 'train_steps_per_second': 0.212, 'total_flos': 1733678648524800.0, 'train_loss': 1.1536206309000652, 'epoch': 1.0})"
      ]
     },
     "execution_count": 11,
     "metadata": {},
     "output_type": "execute_result"
    }
   ],
   "execution_count": 11
  },
  {
   "metadata": {
    "ExecuteTime": {
     "end_time": "2024-12-01T23:47:00.492614Z",
     "start_time": "2024-12-01T23:46:57.853492Z"
    }
   },
   "cell_type": "code",
   "source": [
    "save_path = './pegasus-finetuned'\n",
    "trainer.save_model(save_path)\n",
    "tokenizer.save_pretrained(save_path)"
   ],
   "id": "3f89e0c6521e0be9",
   "outputs": [
    {
     "name": "stderr",
     "output_type": "stream",
     "text": [
      "Some non-default generation parameters are set in the model config. These should go into a GenerationConfig file (https://huggingface.co/docs/transformers/generation_strategies#save-a-custom-decoding-strategy-with-your-model) instead. This warning will be raised to an exception in v4.41.\n",
      "Non-default generation parameters: {'max_length': 256, 'num_beams': 8, 'length_penalty': 0.8, 'forced_eos_token_id': 1}\n"
     ]
    },
    {
     "data": {
      "text/plain": [
       "('./pegasus-finetuned\\\\tokenizer_config.json',\n",
       " './pegasus-finetuned\\\\special_tokens_map.json',\n",
       " './pegasus-finetuned\\\\spiece.model',\n",
       " './pegasus-finetuned\\\\added_tokens.json')"
      ]
     },
     "execution_count": 12,
     "metadata": {},
     "output_type": "execute_result"
    }
   ],
   "execution_count": 12
  },
  {
   "metadata": {
    "ExecuteTime": {
     "end_time": "2024-12-01T23:52:48.923987Z",
     "start_time": "2024-12-01T23:52:48.906627Z"
    }
   },
   "cell_type": "code",
   "source": [
    "def calculate_metrics(row):\n",
    "    inputs = tokenizer(\n",
    "        row['original_text'], return_tensors=\"pt\", padding=\"max_length\", truncation=True, max_length=256\n",
    "    ).input_ids.to(device)\n",
    "    \n",
    "    target = tokenizer(\n",
    "        row['summary'], return_tensors=\"pt\", padding=\"max_length\", truncation=True, max_length=128\n",
    "    ).input_ids.to(device)\n",
    "\n",
    "    generated_ids = model.generate(inputs, max_length=128, num_beams=5, early_stopping=True)\n",
    "    predicted_summary = tokenizer.decode(generated_ids[0], skip_special_tokens=True)\n",
    "\n",
    "    bleu = sentence_bleu([row['summary'].split()], predicted_summary.split())\n",
    "    \n",
    "    return bleu, predicted_summary"
   ],
   "id": "4ebf6903d579479a",
   "outputs": [],
   "execution_count": 19
  },
  {
   "metadata": {
    "ExecuteTime": {
     "end_time": "2024-12-02T02:09:46.417481Z",
     "start_time": "2024-12-01T23:52:52.223850Z"
    }
   },
   "cell_type": "code",
   "source": [
    "test_metrics = test_df.apply(calculate_metrics, axis=1, result_type='expand')\n",
    "test_metrics.columns = ['bleu_score', 'predicted_summary']"
   ],
   "id": "5864d084e33bc4aa",
   "outputs": [],
   "execution_count": 20
  },
  {
   "metadata": {
    "ExecuteTime": {
     "end_time": "2024-12-02T02:19:10.827282Z",
     "start_time": "2024-12-02T02:19:10.815045Z"
    }
   },
   "cell_type": "code",
   "source": "test_df = pd.concat([test_df, test_metrics], axis=1)",
   "id": "96f7b5bdf3d4ba9c",
   "outputs": [],
   "execution_count": 30
  },
  {
   "metadata": {
    "ExecuteTime": {
     "end_time": "2024-12-02T02:19:20.407422Z",
     "start_time": "2024-12-02T02:19:20.402498Z"
    }
   },
   "cell_type": "code",
   "source": [
    "duplicate_columns = test_df.columns.duplicated(keep='last') \n",
    "\n",
    "test_df = test_df.loc[:, duplicate_columns | ~test_df.columns.duplicated(keep='first')]\n",
    "\n",
    "print(test_df.columns)"
   ],
   "id": "9f02567c76a3d048",
   "outputs": [
    {
     "name": "stdout",
     "output_type": "stream",
     "text": [
      "Index(['case_id', 'original_text', 'summary', 'avg_relevance', 'avg_diversity',\n",
      "       'avg_mmr', 'generated_summary', 'similarity_score', 'bleu_score',\n",
      "       'rouge1', 'rouge2', 'rougeL', 'predicted_summary'],\n",
      "      dtype='object')\n"
     ]
    }
   ],
   "execution_count": 31
  },
  {
   "metadata": {
    "ExecuteTime": {
     "end_time": "2024-12-02T02:20:54.602498Z",
     "start_time": "2024-12-02T02:20:54.589288Z"
    }
   },
   "cell_type": "code",
   "source": [
    "avg_bleu = test_df['bleu_score'].mean()\n",
    "print(f\"Average Test BLEU Score: {avg_bleu:.4f}\")"
   ],
   "id": "4ca6536de239e774",
   "outputs": [
    {
     "name": "stdout",
     "output_type": "stream",
     "text": [
      "Average Test BLEU Score: 0.0861\n"
     ]
    }
   ],
   "execution_count": 32
  },
  {
   "metadata": {
    "ExecuteTime": {
     "end_time": "2024-12-02T02:20:57.230300Z",
     "start_time": "2024-12-02T02:20:57.219869Z"
    }
   },
   "cell_type": "code",
   "source": [
    "print(test_df['bleu_score'].head())  \n",
    "print(test_df['bleu_score'].dtype)  "
   ],
   "id": "c920dcdedd654ad9",
   "outputs": [
    {
     "name": "stdout",
     "output_type": "stream",
     "text": [
      "1801    0.046268\n",
      "1190    0.129621\n",
      "1817    0.087839\n",
      "251     0.083179\n",
      "2505    0.136461\n",
      "Name: bleu_score, dtype: float64\n",
      "float64\n"
     ]
    }
   ],
   "execution_count": 33
  },
  {
   "metadata": {
    "ExecuteTime": {
     "end_time": "2024-12-02T02:14:29.165542Z",
     "start_time": "2024-12-02T02:14:29.059986Z"
    }
   },
   "cell_type": "code",
   "outputs": [],
   "execution_count": 26,
   "source": [
    "output_path = './Test-Predicted-With-Metrics-Pegasus.csv'\n",
    "test_df.to_csv(output_path, index=False)"
   ],
   "id": "8389e7f3b8f0d9ce"
  },
  {
   "metadata": {
    "ExecuteTime": {
     "end_time": "2024-12-02T02:14:57.756135Z",
     "start_time": "2024-12-02T02:14:57.743692Z"
    }
   },
   "cell_type": "code",
   "outputs": [
    {
     "name": "stdout",
     "output_type": "stream",
     "text": [
      "Test results saved to ./Test-Predicted-With-Metrics-Pegasus.csv\n"
     ]
    }
   ],
   "execution_count": 27,
   "source": "print(f\"Test results saved to {output_path}\")",
   "id": "875bcb4c71ba7ba2"
  },
  {
   "metadata": {
    "ExecuteTime": {
     "end_time": "2024-12-02T02:22:28.592717Z",
     "start_time": "2024-12-02T02:22:28.545992Z"
    }
   },
   "cell_type": "code",
   "outputs": [],
   "execution_count": 35,
   "source": "df_results = pd.read_csv('Test-Predicted-With-Metrics-Pegasus.csv')",
   "id": "cebc1964a96196d4"
  },
  {
   "metadata": {
    "ExecuteTime": {
     "end_time": "2024-12-02T02:22:37.223695Z",
     "start_time": "2024-12-02T02:22:37.212781Z"
    }
   },
   "cell_type": "code",
   "outputs": [
    {
     "data": {
      "text/plain": [
       "         case_id                                      original_text  \\\n",
       "0  pmc-6076118-1  A 36-year-old man who denied previous systemic...   \n",
       "1  pmc-6032496-1  A 65-year-old woman presented with a three-mon...   \n",
       "2  pmc-6076939-1  A 30-year-old gravida 1 para 1 female presente...   \n",
       "3  pmc-8676056-2  A 35-year-old male patient presented with a si...   \n",
       "4  pmc-6116383-1  A 30-year-old female presented with complaints...   \n",
       "\n",
       "                                             summary  avg_relevance  \\\n",
       "0  A 36-year-old man who denied previous systemic...       0.927933   \n",
       "1  A 65-year-old woman presented with a three-mon...       0.840577   \n",
       "2  A 30-year-old gravida 1 para 1 female presente...       0.898212   \n",
       "3  A 35-year-old male patient presented with a si...       0.887862   \n",
       "4  A 30-year-old female presented with complaints...       0.870243   \n",
       "\n",
       "   avg_diversity   avg_mmr                                  generated_summary  \\\n",
       "0       0.788866  0.481566  A 36-year-old man who denied previous systemic...   \n",
       "1       0.755277  0.425655  A 65-year-old woman presented with a three-mon...   \n",
       "2       0.768605  0.464839  A 30-year-old gravida 1 para 1 female presente...   \n",
       "3       0.762720  0.607263  A 35-year-old male patient presented with a si...   \n",
       "4       0.762400  0.445755  A 30-year-old female presented with complaints...   \n",
       "\n",
       "   similarity_score  bleu_score    rouge1    rouge2    rougeL  \\\n",
       "0          0.746881    0.046268  0.409524  0.339713  0.357143   \n",
       "1          0.872979    0.129621  0.504000  0.411290  0.424000   \n",
       "2          0.701730    0.087839  0.456954  0.393333  0.437086   \n",
       "3          0.759270    0.083179  0.423423  0.263636  0.324324   \n",
       "4          0.747018    0.136461  0.503497  0.401408  0.412587   \n",
       "\n",
       "   bleu_score_predicted                                  predicted_summary  \n",
       "0              0.078022  A 36-year-old man who denied previous systemic...  \n",
       "1              0.031381  A 65-year-old woman presented with a three-mon...  \n",
       "2              0.154417  A 30-year-old gravida 1 para 1 female presente...  \n",
       "3              0.516986  A 35-year-old male patient presented with a si...  \n",
       "4              0.219651  A 30-year-old female presented with complaints...  "
      ],
      "text/html": [
       "<div>\n",
       "<style scoped>\n",
       "    .dataframe tbody tr th:only-of-type {\n",
       "        vertical-align: middle;\n",
       "    }\n",
       "\n",
       "    .dataframe tbody tr th {\n",
       "        vertical-align: top;\n",
       "    }\n",
       "\n",
       "    .dataframe thead th {\n",
       "        text-align: right;\n",
       "    }\n",
       "</style>\n",
       "<table border=\"1\" class=\"dataframe\">\n",
       "  <thead>\n",
       "    <tr style=\"text-align: right;\">\n",
       "      <th></th>\n",
       "      <th>case_id</th>\n",
       "      <th>original_text</th>\n",
       "      <th>summary</th>\n",
       "      <th>avg_relevance</th>\n",
       "      <th>avg_diversity</th>\n",
       "      <th>avg_mmr</th>\n",
       "      <th>generated_summary</th>\n",
       "      <th>similarity_score</th>\n",
       "      <th>bleu_score</th>\n",
       "      <th>rouge1</th>\n",
       "      <th>rouge2</th>\n",
       "      <th>rougeL</th>\n",
       "      <th>bleu_score_predicted</th>\n",
       "      <th>predicted_summary</th>\n",
       "    </tr>\n",
       "  </thead>\n",
       "  <tbody>\n",
       "    <tr>\n",
       "      <th>0</th>\n",
       "      <td>pmc-6076118-1</td>\n",
       "      <td>A 36-year-old man who denied previous systemic...</td>\n",
       "      <td>A 36-year-old man who denied previous systemic...</td>\n",
       "      <td>0.927933</td>\n",
       "      <td>0.788866</td>\n",
       "      <td>0.481566</td>\n",
       "      <td>A 36-year-old man who denied previous systemic...</td>\n",
       "      <td>0.746881</td>\n",
       "      <td>0.046268</td>\n",
       "      <td>0.409524</td>\n",
       "      <td>0.339713</td>\n",
       "      <td>0.357143</td>\n",
       "      <td>0.078022</td>\n",
       "      <td>A 36-year-old man who denied previous systemic...</td>\n",
       "    </tr>\n",
       "    <tr>\n",
       "      <th>1</th>\n",
       "      <td>pmc-6032496-1</td>\n",
       "      <td>A 65-year-old woman presented with a three-mon...</td>\n",
       "      <td>A 65-year-old woman presented with a three-mon...</td>\n",
       "      <td>0.840577</td>\n",
       "      <td>0.755277</td>\n",
       "      <td>0.425655</td>\n",
       "      <td>A 65-year-old woman presented with a three-mon...</td>\n",
       "      <td>0.872979</td>\n",
       "      <td>0.129621</td>\n",
       "      <td>0.504000</td>\n",
       "      <td>0.411290</td>\n",
       "      <td>0.424000</td>\n",
       "      <td>0.031381</td>\n",
       "      <td>A 65-year-old woman presented with a three-mon...</td>\n",
       "    </tr>\n",
       "    <tr>\n",
       "      <th>2</th>\n",
       "      <td>pmc-6076939-1</td>\n",
       "      <td>A 30-year-old gravida 1 para 1 female presente...</td>\n",
       "      <td>A 30-year-old gravida 1 para 1 female presente...</td>\n",
       "      <td>0.898212</td>\n",
       "      <td>0.768605</td>\n",
       "      <td>0.464839</td>\n",
       "      <td>A 30-year-old gravida 1 para 1 female presente...</td>\n",
       "      <td>0.701730</td>\n",
       "      <td>0.087839</td>\n",
       "      <td>0.456954</td>\n",
       "      <td>0.393333</td>\n",
       "      <td>0.437086</td>\n",
       "      <td>0.154417</td>\n",
       "      <td>A 30-year-old gravida 1 para 1 female presente...</td>\n",
       "    </tr>\n",
       "    <tr>\n",
       "      <th>3</th>\n",
       "      <td>pmc-8676056-2</td>\n",
       "      <td>A 35-year-old male patient presented with a si...</td>\n",
       "      <td>A 35-year-old male patient presented with a si...</td>\n",
       "      <td>0.887862</td>\n",
       "      <td>0.762720</td>\n",
       "      <td>0.607263</td>\n",
       "      <td>A 35-year-old male patient presented with a si...</td>\n",
       "      <td>0.759270</td>\n",
       "      <td>0.083179</td>\n",
       "      <td>0.423423</td>\n",
       "      <td>0.263636</td>\n",
       "      <td>0.324324</td>\n",
       "      <td>0.516986</td>\n",
       "      <td>A 35-year-old male patient presented with a si...</td>\n",
       "    </tr>\n",
       "    <tr>\n",
       "      <th>4</th>\n",
       "      <td>pmc-6116383-1</td>\n",
       "      <td>A 30-year-old female presented with complaints...</td>\n",
       "      <td>A 30-year-old female presented with complaints...</td>\n",
       "      <td>0.870243</td>\n",
       "      <td>0.762400</td>\n",
       "      <td>0.445755</td>\n",
       "      <td>A 30-year-old female presented with complaints...</td>\n",
       "      <td>0.747018</td>\n",
       "      <td>0.136461</td>\n",
       "      <td>0.503497</td>\n",
       "      <td>0.401408</td>\n",
       "      <td>0.412587</td>\n",
       "      <td>0.219651</td>\n",
       "      <td>A 30-year-old female presented with complaints...</td>\n",
       "    </tr>\n",
       "  </tbody>\n",
       "</table>\n",
       "</div>"
      ]
     },
     "execution_count": 36,
     "metadata": {},
     "output_type": "execute_result"
    }
   ],
   "execution_count": 36,
   "source": "df_results.head()",
   "id": "157b1aa5a855c00e"
  },
  {
   "metadata": {
    "ExecuteTime": {
     "end_time": "2024-12-02T02:23:21.106008Z",
     "start_time": "2024-12-02T02:23:21.095201Z"
    }
   },
   "cell_type": "code",
   "outputs": [
    {
     "name": "stdout",
     "output_type": "stream",
     "text": [
      "Average Test BLEU Score: 0.2576\n"
     ]
    }
   ],
   "execution_count": 37,
   "source": [
    "avg_bleu = df_results['bleu_score_predicted'].mean()\n",
    "print(f\"Average Test BLEU Score: {avg_bleu:.4f}\")"
   ],
   "id": "6acba7c9794f0429"
  },
  {
   "metadata": {
    "ExecuteTime": {
     "end_time": "2024-12-02T02:31:06.818200Z",
     "start_time": "2024-12-02T02:31:06.808936Z"
    }
   },
   "cell_type": "code",
   "outputs": [
    {
     "data": {
      "text/plain": [
       "     rouge1    rouge2    rougeL\n",
       "0  0.621951  0.493827  0.487805\n",
       "1  0.736842  0.586667  0.539474\n",
       "2  0.551724  0.456140  0.534483\n",
       "3  0.427083  0.252632  0.354167\n",
       "4  0.469799  0.326531  0.402685"
      ],
      "text/html": [
       "<div>\n",
       "<style scoped>\n",
       "    .dataframe tbody tr th:only-of-type {\n",
       "        vertical-align: middle;\n",
       "    }\n",
       "\n",
       "    .dataframe tbody tr th {\n",
       "        vertical-align: top;\n",
       "    }\n",
       "\n",
       "    .dataframe thead th {\n",
       "        text-align: right;\n",
       "    }\n",
       "</style>\n",
       "<table border=\"1\" class=\"dataframe\">\n",
       "  <thead>\n",
       "    <tr style=\"text-align: right;\">\n",
       "      <th></th>\n",
       "      <th>rouge1</th>\n",
       "      <th>rouge2</th>\n",
       "      <th>rougeL</th>\n",
       "    </tr>\n",
       "  </thead>\n",
       "  <tbody>\n",
       "    <tr>\n",
       "      <th>0</th>\n",
       "      <td>0.621951</td>\n",
       "      <td>0.493827</td>\n",
       "      <td>0.487805</td>\n",
       "    </tr>\n",
       "    <tr>\n",
       "      <th>1</th>\n",
       "      <td>0.736842</td>\n",
       "      <td>0.586667</td>\n",
       "      <td>0.539474</td>\n",
       "    </tr>\n",
       "    <tr>\n",
       "      <th>2</th>\n",
       "      <td>0.551724</td>\n",
       "      <td>0.456140</td>\n",
       "      <td>0.534483</td>\n",
       "    </tr>\n",
       "    <tr>\n",
       "      <th>3</th>\n",
       "      <td>0.427083</td>\n",
       "      <td>0.252632</td>\n",
       "      <td>0.354167</td>\n",
       "    </tr>\n",
       "    <tr>\n",
       "      <th>4</th>\n",
       "      <td>0.469799</td>\n",
       "      <td>0.326531</td>\n",
       "      <td>0.402685</td>\n",
       "    </tr>\n",
       "  </tbody>\n",
       "</table>\n",
       "</div>"
      ]
     },
     "execution_count": 41,
     "metadata": {},
     "output_type": "execute_result"
    }
   ],
   "execution_count": 41,
   "source": "df[['rouge1','rouge2','rougeL']].head()",
   "id": "2486a975d433cd38"
  },
  {
   "metadata": {
    "ExecuteTime": {
     "end_time": "2024-12-02T02:31:31.920269Z",
     "start_time": "2024-12-02T02:31:31.909352Z"
    }
   },
   "cell_type": "code",
   "outputs": [],
   "execution_count": 42,
   "source": "avg_rouge1, avg_rouge2, avg_rougeL = df[['rouge1','rouge2','rougeL']].mean()",
   "id": "47bbca404c20bfe8"
  },
  {
   "metadata": {
    "ExecuteTime": {
     "end_time": "2024-12-02T02:32:02.227540Z",
     "start_time": "2024-12-02T02:32:02.222634Z"
    }
   },
   "cell_type": "code",
   "outputs": [
    {
     "name": "stdout",
     "output_type": "stream",
     "text": [
      "Average Test Rouge1 Score: 0.4034\n",
      "Average Test Rouge2 Score: 0.2897\n",
      "Average Test RougeL Score: 0.3319\n"
     ]
    }
   ],
   "execution_count": 43,
   "source": [
    "print(f\"Average Test Rouge1 Score: {avg_rouge1:.4f}\")\n",
    "print(f\"Average Test Rouge2 Score: {avg_rouge2:.4f}\")\n",
    "print(f\"Average Test RougeL Score: {avg_rougeL:.4f}\")"
   ],
   "id": "7a02b9bf888d7e17"
  }
 ],
 "metadata": {
  "kernelspec": {
   "display_name": "Python 3",
   "language": "python",
   "name": "python3"
  },
  "language_info": {
   "codemirror_mode": {
    "name": "ipython",
    "version": 2
   },
   "file_extension": ".py",
   "mimetype": "text/x-python",
   "name": "python",
   "nbconvert_exporter": "python",
   "pygments_lexer": "ipython2",
   "version": "2.7.6"
  }
 },
 "nbformat": 4,
 "nbformat_minor": 5
}
