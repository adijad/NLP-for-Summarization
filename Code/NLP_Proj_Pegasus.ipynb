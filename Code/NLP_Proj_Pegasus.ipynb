{
 "cells": [
  {
   "cell_type": "code",
   "id": "initial_id",
   "metadata": {
    "collapsed": true,
    "ExecuteTime": {
     "end_time": "2024-12-02T02:50:39.427935Z",
     "start_time": "2024-12-02T02:50:33.160395Z"
    }
   },
   "source": [
    "import pandas as pd\n",
    "import nltk\n",
    "from nltk.translate.bleu_score import sentence_bleu, SmoothingFunction\n",
    "from transformers import PegasusTokenizer, PegasusForConditionalGeneration\n",
    "import torch\n",
    "import time"
   ],
   "outputs": [],
   "execution_count": 1
  },
  {
   "metadata": {
    "ExecuteTime": {
     "end_time": "2024-12-01T21:16:23.917457Z",
     "start_time": "2024-12-01T21:16:23.901847Z"
    }
   },
   "cell_type": "code",
   "source": "torch.cuda.empty_cache()",
   "id": "70ba1e9ebe214bf2",
   "outputs": [],
   "execution_count": 2
  },
  {
   "metadata": {
    "ExecuteTime": {
     "end_time": "2024-12-01T21:16:30.009880Z",
     "start_time": "2024-12-01T21:16:23.918772Z"
    }
   },
   "cell_type": "code",
   "source": [
    "model_name = \"google/pegasus-xsum\"\n",
    "model = PegasusForConditionalGeneration.from_pretrained(model_name).to('cuda')\n",
    "tokenizer = PegasusTokenizer.from_pretrained(model_name)"
   ],
   "id": "24cf5dd6d01c8377",
   "outputs": [
    {
     "name": "stderr",
     "output_type": "stream",
     "text": [
      "Some weights of PegasusForConditionalGeneration were not initialized from the model checkpoint at google/pegasus-xsum and are newly initialized: ['model.decoder.embed_positions.weight', 'model.encoder.embed_positions.weight']\n",
      "You should probably TRAIN this model on a down-stream task to be able to use it for predictions and inference.\n",
      "C:\\Users\\jaysa\\anaconda3\\Lib\\site-packages\\transformers\\tokenization_utils_base.py:1601: FutureWarning: `clean_up_tokenization_spaces` was not set. It will be set to `True` by default. This behavior will be depracted in transformers v4.45, and will be then set to `False` by default. For more details check this issue: https://github.com/huggingface/transformers/issues/31884\n",
      "  warnings.warn(\n"
     ]
    }
   ],
   "execution_count": 3
  },
  {
   "metadata": {
    "ExecuteTime": {
     "end_time": "2024-12-01T21:17:18.851113Z",
     "start_time": "2024-12-01T21:16:30.051900Z"
    }
   },
   "cell_type": "code",
   "source": [
    "og_med_data = pd.read_json(\"hf://datasets/ncbi/Open-Patients/Open-Patients.jsonl\", lines=True)\n",
    "og_med_data.head()"
   ],
   "id": "93a2c73fe62d1d14",
   "outputs": [
    {
     "data": {
      "text/plain": [
       "               _id                                        description\n",
       "0  trec-cds-2014-1  A 58-year-old African-American woman presents ...\n",
       "1  trec-cds-2014-2  An 8-year-old male presents in March to the ER...\n",
       "2  trec-cds-2014-3  A 58-year-old nonsmoker white female with mild...\n",
       "3  trec-cds-2014-4  A 2-year-old boy is brought to the emergency d...\n",
       "4  trec-cds-2014-5  A 56-year-old female on 20th day post-left mas..."
      ],
      "text/html": [
       "<div>\n",
       "<style scoped>\n",
       "    .dataframe tbody tr th:only-of-type {\n",
       "        vertical-align: middle;\n",
       "    }\n",
       "\n",
       "    .dataframe tbody tr th {\n",
       "        vertical-align: top;\n",
       "    }\n",
       "\n",
       "    .dataframe thead th {\n",
       "        text-align: right;\n",
       "    }\n",
       "</style>\n",
       "<table border=\"1\" class=\"dataframe\">\n",
       "  <thead>\n",
       "    <tr style=\"text-align: right;\">\n",
       "      <th></th>\n",
       "      <th>_id</th>\n",
       "      <th>description</th>\n",
       "    </tr>\n",
       "  </thead>\n",
       "  <tbody>\n",
       "    <tr>\n",
       "      <th>0</th>\n",
       "      <td>trec-cds-2014-1</td>\n",
       "      <td>A 58-year-old African-American woman presents ...</td>\n",
       "    </tr>\n",
       "    <tr>\n",
       "      <th>1</th>\n",
       "      <td>trec-cds-2014-2</td>\n",
       "      <td>An 8-year-old male presents in March to the ER...</td>\n",
       "    </tr>\n",
       "    <tr>\n",
       "      <th>2</th>\n",
       "      <td>trec-cds-2014-3</td>\n",
       "      <td>A 58-year-old nonsmoker white female with mild...</td>\n",
       "    </tr>\n",
       "    <tr>\n",
       "      <th>3</th>\n",
       "      <td>trec-cds-2014-4</td>\n",
       "      <td>A 2-year-old boy is brought to the emergency d...</td>\n",
       "    </tr>\n",
       "    <tr>\n",
       "      <th>4</th>\n",
       "      <td>trec-cds-2014-5</td>\n",
       "      <td>A 56-year-old female on 20th day post-left mas...</td>\n",
       "    </tr>\n",
       "  </tbody>\n",
       "</table>\n",
       "</div>"
      ]
     },
     "execution_count": 4,
     "metadata": {},
     "output_type": "execute_result"
    }
   ],
   "execution_count": 4
  },
  {
   "metadata": {
    "ExecuteTime": {
     "end_time": "2024-12-01T21:17:18.863014Z",
     "start_time": "2024-12-01T21:17:18.860291Z"
    }
   },
   "cell_type": "code",
   "source": "og_med_data_subset = og_med_data.iloc[0:30000,:]",
   "id": "bbab206c75e75343",
   "outputs": [],
   "execution_count": 5
  },
  {
   "metadata": {
    "ExecuteTime": {
     "end_time": "2024-12-01T21:17:19.055064Z",
     "start_time": "2024-12-01T21:17:19.050276Z"
    }
   },
   "cell_type": "code",
   "source": [
    "def generate_pegasus_summary_batch(texts, batch_size=4, max_input_length=1024, max_output_length=150):\n",
    "    summaries = []\n",
    "    for i in range(0, len(texts), batch_size):\n",
    "        batch = texts[i:i+batch_size]\n",
    "        inputs = tokenizer(batch, truncation=True, padding=True, max_length=max_input_length, return_tensors=\"pt\").to(\"cuda\")\n",
    "        outputs = model.generate(inputs[\"input_ids\"], max_length=max_output_length, num_beams=4, early_stopping=True)\n",
    "        decoded_batch = tokenizer.batch_decode(outputs, skip_special_tokens=True)\n",
    "        summaries.extend(decoded_batch)\n",
    "    return summaries"
   ],
   "id": "3230aad13c07d25a",
   "outputs": [],
   "execution_count": 6
  },
  {
   "metadata": {
    "ExecuteTime": {
     "end_time": "2024-12-01T21:17:19.062599Z",
     "start_time": "2024-12-01T21:17:19.059465Z"
    }
   },
   "cell_type": "code",
   "source": [
    "def tokenize_texts(texts):\n",
    "    return [\" \".join(nltk.word_tokenize(text.lower())) for text in texts]"
   ],
   "id": "72d33277f253553b",
   "outputs": [],
   "execution_count": 7
  },
  {
   "metadata": {
    "ExecuteTime": {
     "end_time": "2024-12-01T21:17:19.081694Z",
     "start_time": "2024-12-01T21:17:19.076609Z"
    }
   },
   "cell_type": "code",
   "source": "descriptions = og_med_data_subset[\"description\"].tolist()",
   "id": "c6c27df211cccdf8",
   "outputs": [],
   "execution_count": 8
  },
  {
   "metadata": {
    "ExecuteTime": {
     "end_time": "2024-12-01T21:17:19.103584Z",
     "start_time": "2024-12-01T21:17:19.100061Z"
    }
   },
   "cell_type": "code",
   "source": [
    "def calculate_sentence_bleu(reference, generated):\n",
    "    smoothing_function = SmoothingFunction().method1\n",
    "    scores = [\n",
    "        sentence_bleu([nltk.word_tokenize(ref)], nltk.word_tokenize(gen), smoothing_function=smoothing_function)\n",
    "        for ref, gen in zip(reference, generated)\n",
    "    ]\n",
    "    return sum(scores) / len(scores)"
   ],
   "id": "7d8459df0d39157c",
   "outputs": [],
   "execution_count": 9
  },
  {
   "metadata": {
    "ExecuteTime": {
     "end_time": "2024-12-01T21:18:12.199785Z",
     "start_time": "2024-12-01T21:17:19.129599Z"
    }
   },
   "cell_type": "code",
   "source": [
    "start_time = time.time()\n",
    "pegasus_summaries = generate_pegasus_summary_batch(descriptions, batch_size=2)\n",
    "pegasus_time = time.time() - start_time"
   ],
   "id": "94e028c6be03f660",
   "outputs": [
    {
     "ename": "RuntimeError",
     "evalue": "CUDA error: device-side assert triggered\nCUDA kernel errors might be asynchronously reported at some other API call, so the stacktrace below might be incorrect.\nFor debugging consider passing CUDA_LAUNCH_BLOCKING=1\nCompile with `TORCH_USE_CUDA_DSA` to enable device-side assertions.\n",
     "output_type": "error",
     "traceback": [
      "\u001B[1;31m---------------------------------------------------------------------------\u001B[0m",
      "\u001B[1;31mRuntimeError\u001B[0m                              Traceback (most recent call last)",
      "Cell \u001B[1;32mIn[10], line 3\u001B[0m\n\u001B[0;32m      1\u001B[0m \u001B[38;5;66;03m# Generate summaries using PEGASUS\u001B[39;00m\n\u001B[0;32m      2\u001B[0m start_time \u001B[38;5;241m=\u001B[39m time\u001B[38;5;241m.\u001B[39mtime()\n\u001B[1;32m----> 3\u001B[0m pegasus_summaries \u001B[38;5;241m=\u001B[39m generate_pegasus_summary_batch(descriptions, batch_size\u001B[38;5;241m=\u001B[39m\u001B[38;5;241m2\u001B[39m)\n\u001B[0;32m      4\u001B[0m pegasus_time \u001B[38;5;241m=\u001B[39m time\u001B[38;5;241m.\u001B[39mtime() \u001B[38;5;241m-\u001B[39m start_time\n",
      "Cell \u001B[1;32mIn[6], line 6\u001B[0m, in \u001B[0;36mgenerate_pegasus_summary_batch\u001B[1;34m(texts, batch_size, max_input_length, max_output_length)\u001B[0m\n\u001B[0;32m      4\u001B[0m batch \u001B[38;5;241m=\u001B[39m texts[i:i\u001B[38;5;241m+\u001B[39mbatch_size]\n\u001B[0;32m      5\u001B[0m inputs \u001B[38;5;241m=\u001B[39m tokenizer(batch, truncation\u001B[38;5;241m=\u001B[39m\u001B[38;5;28;01mTrue\u001B[39;00m, padding\u001B[38;5;241m=\u001B[39m\u001B[38;5;28;01mTrue\u001B[39;00m, max_length\u001B[38;5;241m=\u001B[39mmax_input_length, return_tensors\u001B[38;5;241m=\u001B[39m\u001B[38;5;124m\"\u001B[39m\u001B[38;5;124mpt\u001B[39m\u001B[38;5;124m\"\u001B[39m)\u001B[38;5;241m.\u001B[39mto(\u001B[38;5;124m\"\u001B[39m\u001B[38;5;124mcuda\u001B[39m\u001B[38;5;124m\"\u001B[39m)\n\u001B[1;32m----> 6\u001B[0m outputs \u001B[38;5;241m=\u001B[39m model\u001B[38;5;241m.\u001B[39mgenerate(inputs[\u001B[38;5;124m\"\u001B[39m\u001B[38;5;124minput_ids\u001B[39m\u001B[38;5;124m\"\u001B[39m], max_length\u001B[38;5;241m=\u001B[39mmax_output_length, num_beams\u001B[38;5;241m=\u001B[39m\u001B[38;5;241m4\u001B[39m, early_stopping\u001B[38;5;241m=\u001B[39m\u001B[38;5;28;01mTrue\u001B[39;00m)\n\u001B[0;32m      7\u001B[0m decoded_batch \u001B[38;5;241m=\u001B[39m tokenizer\u001B[38;5;241m.\u001B[39mbatch_decode(outputs, skip_special_tokens\u001B[38;5;241m=\u001B[39m\u001B[38;5;28;01mTrue\u001B[39;00m)\n\u001B[0;32m      8\u001B[0m summaries\u001B[38;5;241m.\u001B[39mextend(decoded_batch)\n",
      "File \u001B[1;32m~\\anaconda3\\Lib\\site-packages\\torch\\utils\\_contextlib.py:116\u001B[0m, in \u001B[0;36mcontext_decorator.<locals>.decorate_context\u001B[1;34m(*args, **kwargs)\u001B[0m\n\u001B[0;32m    113\u001B[0m \u001B[38;5;129m@functools\u001B[39m\u001B[38;5;241m.\u001B[39mwraps(func)\n\u001B[0;32m    114\u001B[0m \u001B[38;5;28;01mdef\u001B[39;00m \u001B[38;5;21mdecorate_context\u001B[39m(\u001B[38;5;241m*\u001B[39margs, \u001B[38;5;241m*\u001B[39m\u001B[38;5;241m*\u001B[39mkwargs):\n\u001B[0;32m    115\u001B[0m     \u001B[38;5;28;01mwith\u001B[39;00m ctx_factory():\n\u001B[1;32m--> 116\u001B[0m         \u001B[38;5;28;01mreturn\u001B[39;00m func(\u001B[38;5;241m*\u001B[39margs, \u001B[38;5;241m*\u001B[39m\u001B[38;5;241m*\u001B[39mkwargs)\n",
      "File \u001B[1;32m~\\anaconda3\\Lib\\site-packages\\transformers\\generation\\utils.py:1896\u001B[0m, in \u001B[0;36mGenerationMixin.generate\u001B[1;34m(self, inputs, generation_config, logits_processor, stopping_criteria, prefix_allowed_tokens_fn, synced_gpus, assistant_model, streamer, negative_prompt_ids, negative_prompt_attention_mask, **kwargs)\u001B[0m\n\u001B[0;32m   1885\u001B[0m     warnings\u001B[38;5;241m.\u001B[39mwarn(\n\u001B[0;32m   1886\u001B[0m         \u001B[38;5;124m\"\u001B[39m\u001B[38;5;124mYou are calling .generate() with the `input_ids` being on a device type different\u001B[39m\u001B[38;5;124m\"\u001B[39m\n\u001B[0;32m   1887\u001B[0m         \u001B[38;5;124mf\u001B[39m\u001B[38;5;124m\"\u001B[39m\u001B[38;5;124m than your model\u001B[39m\u001B[38;5;124m'\u001B[39m\u001B[38;5;124ms device. `input_ids` is on \u001B[39m\u001B[38;5;132;01m{\u001B[39;00minput_ids\u001B[38;5;241m.\u001B[39mdevice\u001B[38;5;241m.\u001B[39mtype\u001B[38;5;132;01m}\u001B[39;00m\u001B[38;5;124m, whereas the model\u001B[39m\u001B[38;5;124m\"\u001B[39m\n\u001B[1;32m   (...)\u001B[0m\n\u001B[0;32m   1892\u001B[0m         \u001B[38;5;167;01mUserWarning\u001B[39;00m,\n\u001B[0;32m   1893\u001B[0m     )\n\u001B[0;32m   1895\u001B[0m \u001B[38;5;66;03m# 8. prepare distribution pre_processing samplers\u001B[39;00m\n\u001B[1;32m-> 1896\u001B[0m prepared_logits_processor \u001B[38;5;241m=\u001B[39m \u001B[38;5;28mself\u001B[39m\u001B[38;5;241m.\u001B[39m_get_logits_processor(\n\u001B[0;32m   1897\u001B[0m     generation_config\u001B[38;5;241m=\u001B[39mgeneration_config,\n\u001B[0;32m   1898\u001B[0m     input_ids_seq_length\u001B[38;5;241m=\u001B[39minput_ids_length,\n\u001B[0;32m   1899\u001B[0m     encoder_input_ids\u001B[38;5;241m=\u001B[39minputs_tensor,\n\u001B[0;32m   1900\u001B[0m     prefix_allowed_tokens_fn\u001B[38;5;241m=\u001B[39mprefix_allowed_tokens_fn,\n\u001B[0;32m   1901\u001B[0m     logits_processor\u001B[38;5;241m=\u001B[39mlogits_processor,\n\u001B[0;32m   1902\u001B[0m     device\u001B[38;5;241m=\u001B[39minputs_tensor\u001B[38;5;241m.\u001B[39mdevice,\n\u001B[0;32m   1903\u001B[0m     model_kwargs\u001B[38;5;241m=\u001B[39mmodel_kwargs,\n\u001B[0;32m   1904\u001B[0m     negative_prompt_ids\u001B[38;5;241m=\u001B[39mnegative_prompt_ids,\n\u001B[0;32m   1905\u001B[0m     negative_prompt_attention_mask\u001B[38;5;241m=\u001B[39mnegative_prompt_attention_mask,\n\u001B[0;32m   1906\u001B[0m )\n\u001B[0;32m   1908\u001B[0m \u001B[38;5;66;03m# 9. prepare stopping criteria\u001B[39;00m\n\u001B[0;32m   1909\u001B[0m prepared_stopping_criteria \u001B[38;5;241m=\u001B[39m \u001B[38;5;28mself\u001B[39m\u001B[38;5;241m.\u001B[39m_get_stopping_criteria(\n\u001B[0;32m   1910\u001B[0m     generation_config\u001B[38;5;241m=\u001B[39mgeneration_config, stopping_criteria\u001B[38;5;241m=\u001B[39mstopping_criteria, tokenizer\u001B[38;5;241m=\u001B[39mtokenizer, \u001B[38;5;241m*\u001B[39m\u001B[38;5;241m*\u001B[39mkwargs\n\u001B[0;32m   1911\u001B[0m )\n",
      "File \u001B[1;32m~\\anaconda3\\Lib\\site-packages\\transformers\\generation\\utils.py:904\u001B[0m, in \u001B[0;36mGenerationMixin._get_logits_processor\u001B[1;34m(self, generation_config, input_ids_seq_length, encoder_input_ids, prefix_allowed_tokens_fn, logits_processor, device, model_kwargs, negative_prompt_ids, negative_prompt_attention_mask)\u001B[0m\n\u001B[0;32m    897\u001B[0m     processors\u001B[38;5;241m.\u001B[39mappend(\n\u001B[0;32m    898\u001B[0m         ForcedBOSTokenLogitsProcessor(\n\u001B[0;32m    899\u001B[0m             generation_config\u001B[38;5;241m.\u001B[39mforced_bos_token_id,\n\u001B[0;32m    900\u001B[0m         )\n\u001B[0;32m    901\u001B[0m     )\n\u001B[0;32m    902\u001B[0m \u001B[38;5;28;01mif\u001B[39;00m generation_config\u001B[38;5;241m.\u001B[39mforced_eos_token_id \u001B[38;5;129;01mis\u001B[39;00m \u001B[38;5;129;01mnot\u001B[39;00m \u001B[38;5;28;01mNone\u001B[39;00m:\n\u001B[0;32m    903\u001B[0m     processors\u001B[38;5;241m.\u001B[39mappend(\n\u001B[1;32m--> 904\u001B[0m         ForcedEOSTokenLogitsProcessor(\n\u001B[0;32m    905\u001B[0m             generation_config\u001B[38;5;241m.\u001B[39mmax_length,\n\u001B[0;32m    906\u001B[0m             generation_config\u001B[38;5;241m.\u001B[39mforced_eos_token_id,\n\u001B[0;32m    907\u001B[0m             device\u001B[38;5;241m=\u001B[39mdevice,\n\u001B[0;32m    908\u001B[0m         )\n\u001B[0;32m    909\u001B[0m     )\n\u001B[0;32m    910\u001B[0m \u001B[38;5;28;01mif\u001B[39;00m generation_config\u001B[38;5;241m.\u001B[39mremove_invalid_values \u001B[38;5;129;01mis\u001B[39;00m \u001B[38;5;28;01mTrue\u001B[39;00m:\n\u001B[0;32m    911\u001B[0m     processors\u001B[38;5;241m.\u001B[39mappend(InfNanRemoveLogitsProcessor())\n",
      "File \u001B[1;32m~\\anaconda3\\Lib\\site-packages\\transformers\\generation\\logits_process.py:1573\u001B[0m, in \u001B[0;36mForcedEOSTokenLogitsProcessor.__init__\u001B[1;34m(self, max_length, eos_token_id, device)\u001B[0m\n\u001B[0;32m   1571\u001B[0m     \u001B[38;5;28;01mif\u001B[39;00m \u001B[38;5;28misinstance\u001B[39m(eos_token_id, \u001B[38;5;28mint\u001B[39m):\n\u001B[0;32m   1572\u001B[0m         eos_token_id \u001B[38;5;241m=\u001B[39m [eos_token_id]\n\u001B[1;32m-> 1573\u001B[0m     eos_token_id \u001B[38;5;241m=\u001B[39m torch\u001B[38;5;241m.\u001B[39mtensor(eos_token_id, device\u001B[38;5;241m=\u001B[39mdevice)\n\u001B[0;32m   1574\u001B[0m \u001B[38;5;28mself\u001B[39m\u001B[38;5;241m.\u001B[39meos_token_id \u001B[38;5;241m=\u001B[39m eos_token_id\n\u001B[0;32m   1576\u001B[0m \u001B[38;5;28;01mif\u001B[39;00m torch\u001B[38;5;241m.\u001B[39mis_floating_point(eos_token_id) \u001B[38;5;129;01mor\u001B[39;00m (eos_token_id \u001B[38;5;241m<\u001B[39m \u001B[38;5;241m0\u001B[39m)\u001B[38;5;241m.\u001B[39many():\n",
      "\u001B[1;31mRuntimeError\u001B[0m: CUDA error: device-side assert triggered\nCUDA kernel errors might be asynchronously reported at some other API call, so the stacktrace below might be incorrect.\nFor debugging consider passing CUDA_LAUNCH_BLOCKING=1\nCompile with `TORCH_USE_CUDA_DSA` to enable device-side assertions.\n"
     ]
    }
   ],
   "execution_count": 10
  },
  {
   "metadata": {
    "ExecuteTime": {
     "end_time": "2024-12-01T21:18:12.271373600Z",
     "start_time": "2024-12-01T20:45:01.665174Z"
    }
   },
   "cell_type": "code",
   "source": [
    "reference_tokenized = tokenize_texts(descriptions)\n",
    "generated_tokenized = tokenize_texts(pegasus_summaries)"
   ],
   "id": "dddea7e36599f852",
   "outputs": [],
   "execution_count": 11
  },
  {
   "metadata": {
    "ExecuteTime": {
     "end_time": "2024-12-01T21:18:12.271373600Z",
     "start_time": "2024-12-01T20:45:06.125004Z"
    }
   },
   "cell_type": "code",
   "source": "sentence_bleu_score = calculate_sentence_bleu(reference_tokenized, generated_tokenized)",
   "id": "f48d87087b9043d0",
   "outputs": [],
   "execution_count": 12
  },
  {
   "metadata": {
    "ExecuteTime": {
     "end_time": "2024-12-01T21:18:12.286974200Z",
     "start_time": "2024-12-01T20:45:09.038320Z"
    }
   },
   "cell_type": "code",
   "source": [
    "print(f\"PEGASUS Summary Generation Metrics:\")\n",
    "print(f\"  Time taken: {pegasus_time:.2f} seconds\")\n",
    "print(f\"  Sentence-Level BLEU Score: {sentence_bleu_score:.4f}\")"
   ],
   "id": "41bf48c33b2d011c",
   "outputs": [
    {
     "name": "stdout",
     "output_type": "stream",
     "text": [
      "PEGASUS Summary Generation Metrics:\n",
      "  Time taken: 293.11 seconds\n",
      "  Sentence-Level BLEU Score: 0.0011\n"
     ]
    }
   ],
   "execution_count": 13
  },
  {
   "metadata": {
    "ExecuteTime": {
     "end_time": "2024-12-02T02:53:38.538476Z",
     "start_time": "2024-12-02T02:53:38.532581Z"
    }
   },
   "cell_type": "code",
   "source": "avg_rouge1, avg_rouge2, avg_rougeL = og_med_data_subset[['rouge1','rouge2','rougeL']].mean()",
   "id": "ee29871d784ea0f",
   "outputs": [],
   "execution_count": 21
  },
  {
   "metadata": {
    "ExecuteTime": {
     "end_time": "2024-12-02T02:53:39.741199Z",
     "start_time": "2024-12-02T02:53:39.735525Z"
    }
   },
   "cell_type": "code",
   "source": [
    "print(f\"Average Test Rouge1 Score: {avg_rouge1:.4f}\")\n",
    "print(f\"Average Test Rouge2 Score: {avg_rouge2:.4f}\")\n",
    "print(f\"Average Test RougeL Score: {avg_rougeL:.4f}\")"
   ],
   "id": "8a74ef5f08c22ba",
   "outputs": [
    {
     "name": "stdout",
     "output_type": "stream",
     "text": [
      "Average Test Rouge1 Score: 0.1189\n",
      "Average Test Rouge2 Score: 0.0530\n",
      "Average Test RougeL Score: 0.0902\n"
     ]
    }
   ],
   "execution_count": 22
  },
  {
   "metadata": {
    "ExecuteTime": {
     "end_time": "2024-12-01T21:18:12.289801600Z",
     "start_time": "2024-12-01T20:49:48.759090Z"
    }
   },
   "cell_type": "code",
   "outputs": [
    {
     "name": "stdout",
     "output_type": "stream",
     "text": [
      "\n",
      "---\n",
      "Reference: a 58-year-old african-american woman presents to the er with episodic pressing/burning anterior chest pain that began two days earlier for the first time in her life . the pain started while she was walking , radiates to the back , and is accompanied by nausea , diaphoresis and mild dyspnea , but is not increased on inspiration . the latest episode of pain ended half an hour prior to her arrival . she is known to have hypertension and obesity . she denies smoking , diabetes , hypercholesterolemia , or a family history of heart disease . she currently takes no medications . physical examination is normal . the ekg shows nonspecific changes .\n",
      "Generated: here is a case report of a patient who presents with chest pain for the first time in her life .\n",
      "\n",
      "---\n",
      "Reference: an 8-year-old male presents in march to the er with fever up to 39 c , dyspnea and cough for 2 days . he has just returned from a 5 day vacation in colorado . parents report that prior to the onset of fever and cough , he had loose stools . he denies upper respiratory tract symptoms . on examination he is in respiratory distress and has bronchial respiratory sounds on the left . a chest x-ray shows bilateral lung infiltrates .\n",
      "Generated: this is a case report of a young boy with a cough and fever who presents with bilateral lung infiltrates .\n",
      "\n",
      "---\n",
      "Reference: a 58-year-old nonsmoker white female with mild exertional dyspnea and occasional cough is found to have a left lung mass on chest x-ray . she is otherwise asymptomatic . a neurologic examination is unremarkable , but a ct scan of the head shows a solitary mass in the right frontal lobe .\n",
      "Generated: we report the case of a woman with a rare brain mass .\n",
      "\n",
      "---\n",
      "Reference: a 2-year-old boy is brought to the emergency department by his parents for 5 days of high fever and irritability . the physical exam reveals conjunctivitis , strawberry tongue , inflammation of the hands and feet , desquamation of the skin of the fingers and toes , and cervical lymphadenopathy with the smallest node at 1.5 cm . the abdominal exam demonstrates tenderness and enlarged liver . laboratory tests report elevated alanine aminotransferase , white blood cell count of 17,580/mm , albumin 2.1 g/dl , c-reactive protein 4.5 mg , erythrocyte sedimentation rate 60 mm/h , mild normochromic , normocytic anemia , and leukocytes in urine of 20/ml with no bacteria identified . the echocardiogram shows moderate dilation of the coronary arteries with possible coronary artery aneurysm .\n",
      "Generated: we report the case of a young boy with a suspected heart attack .\n",
      "\n",
      "---\n",
      "Reference: a 56-year-old female on 20th day post-left mastectomy presents to the emergency department complaining of shortness of breath and malaise . the patient says that she has remained in bed for the last two weeks . the physical examination reveals tenderness on the left upper thoracic wall and right calf . the surgical incision shows no bleeding or signs of infection . pulmonary auscultation is significant for bilateral decreased breath sounds , especially at the right base . laboratory tests reveal an elevated d-dimer .\n",
      "Generated: a case report of a woman who underwent a double mastectomy for breast cancer .\n"
     ]
    }
   ],
   "execution_count": 16,
   "source": [
    "for ref, gen in zip(reference_tokenized[:5], generated_tokenized[:5]):\n",
    "    print(\"\\n---\")\n",
    "    print(f\"Reference: {ref}\")\n",
    "    print(f\"Generated: {gen}\")"
   ],
   "id": "2ad66b133ebcd801"
  },
  {
   "metadata": {
    "ExecuteTime": {
     "end_time": "2024-12-01T21:18:12.289801600Z",
     "start_time": "2024-12-01T19:48:52.234509Z"
    }
   },
   "cell_type": "code",
   "source": [
    "og_med_data_subset['pegasus_summary'] = pegasus_summaries\n",
    "og_med_data_subset.to_csv('pegasus_generated_summaries.csv', index=False)"
   ],
   "id": "e436db1734afbd8a",
   "outputs": [
    {
     "name": "stderr",
     "output_type": "stream",
     "text": [
      "C:\\Users\\jaysa\\AppData\\Local\\Temp\\ipykernel_17092\\2405544121.py:1: SettingWithCopyWarning: \n",
      "A value is trying to be set on a copy of a slice from a DataFrame.\n",
      "Try using .loc[row_indexer,col_indexer] = value instead\n",
      "\n",
      "See the caveats in the documentation: https://pandas.pydata.org/pandas-docs/stable/user_guide/indexing.html#returning-a-view-versus-a-copy\n",
      "  og_med_data_subset['pegasus_summary'] = pegasus_summaries\n"
     ]
    }
   ],
   "execution_count": 13
  },
  {
   "metadata": {},
   "cell_type": "code",
   "outputs": [],
   "execution_count": null,
   "source": "print(\"Generated summaries saved to 'pegasus_generated_summaries.csv'\")",
   "id": "563edacafaa93de1"
  }
 ],
 "metadata": {
  "kernelspec": {
   "display_name": "Python 3",
   "language": "python",
   "name": "python3"
  },
  "language_info": {
   "codemirror_mode": {
    "name": "ipython",
    "version": 2
   },
   "file_extension": ".py",
   "mimetype": "text/x-python",
   "name": "python",
   "nbconvert_exporter": "python",
   "pygments_lexer": "ipython2",
   "version": "2.7.6"
  }
 },
 "nbformat": 4,
 "nbformat_minor": 5
}
